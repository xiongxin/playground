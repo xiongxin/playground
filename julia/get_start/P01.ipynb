{
 "cells": [
  {
   "cell_type": "markdown",
   "id": "53e97f43",
   "metadata": {},
   "source": [
    "# a\n",
    "\n",
    "\n",
    "```\n",
    "code\n",
    "```"
   ]
  },
  {
   "cell_type": "code",
   "execution_count": 1,
   "id": "fc651d38",
   "metadata": {},
   "outputs": [
    {
     "name": "stdout",
     "output_type": "stream",
     "text": [
      "/home/xiongxin/.julia/packages/IJulia/e8kqU/src/kernel.jl\n",
      "/home/xiongxin/.local/share/jupyter/runtime/kernel-78300cf1-793d-4aa5-aaa5-ceae9a8f9b6b.json\n",
      "π\n"
     ]
    }
   ],
   "source": [
    "#aaa\n",
    "println(PROGRAM_FILE)\n",
    "for x in ARGS\n",
    "    println(x)\n",
    "end\n",
    "\n",
    "println(pi)\n",
    "\n"
   ]
  },
  {
   "cell_type": "code",
   "execution_count": 2,
   "id": "7e9670a7",
   "metadata": {},
   "outputs": [
    {
     "data": {
      "text/plain": [
       "Int64"
      ]
     },
     "execution_count": 2,
     "metadata": {},
     "output_type": "execute_result"
    }
   ],
   "source": [
    "typeof(1)"
   ]
  },
  {
   "cell_type": "code",
   "execution_count": 3,
   "id": "ee8d7d20",
   "metadata": {},
   "outputs": [
    {
     "data": {
      "text/plain": [
       "64"
      ]
     },
     "execution_count": 3,
     "metadata": {},
     "output_type": "execute_result"
    }
   ],
   "source": [
    "Sys.WORD_SIZE"
   ]
  },
  {
   "cell_type": "code",
   "execution_count": 5,
   "id": "54253492",
   "metadata": {},
   "outputs": [
    {
     "data": {
      "text/plain": [
       "UInt8"
      ]
     },
     "execution_count": 5,
     "metadata": {},
     "output_type": "execute_result"
    }
   ],
   "source": [
    "x = -0x2\n",
    "typeof(x)"
   ]
  },
  {
   "cell_type": "code",
   "execution_count": 6,
   "id": "eb7aacdb",
   "metadata": {},
   "outputs": [
    {
     "data": {
      "text/plain": [
       "(-2147483648, 2147483647)"
      ]
     },
     "execution_count": 6,
     "metadata": {},
     "output_type": "execute_result"
    }
   ],
   "source": [
    "(typemin(Int32), typemax(Int32))"
   ]
  },
  {
   "cell_type": "code",
   "execution_count": 7,
   "id": "cd74c136",
   "metadata": {},
   "outputs": [
    {
     "name": "stdout",
     "output_type": "stream",
     "text": [
      "   Int8: [-128,127]\n",
      "  Int16: [-32768,32767]\n",
      "  Int32: [-2147483648,2147483647]\n",
      "  Int64: [-9223372036854775808,9223372036854775807]\n",
      " Int128: [-170141183460469231731687303715884105728,170141183460469231731687303715884105727]\n",
      "  UInt8: [0,255]\n",
      " UInt16: [0,65535]\n",
      " UInt32: [0,4294967295]\n",
      " UInt64: [0,18446744073709551615]\n",
      "UInt128: [0,340282366920938463463374607431768211455]\n"
     ]
    }
   ],
   "source": [
    "for T in [Int8,Int16,Int32,Int64,Int128,UInt8,UInt16,UInt32,UInt64,UInt128]\n",
    "           println(\"$(lpad(T,7)): [$(typemin(T)),$(typemax(T))]\")\n",
    "       end"
   ]
  },
  {
   "cell_type": "code",
   "execution_count": null,
   "id": "9f6a32f4",
   "metadata": {},
   "outputs": [],
   "source": []
  },
  {
   "cell_type": "code",
   "execution_count": null,
   "id": "58b7e514",
   "metadata": {},
   "outputs": [],
   "source": []
  },
  {
   "cell_type": "code",
   "execution_count": null,
   "id": "5fba23ae",
   "metadata": {},
   "outputs": [],
   "source": []
  },
  {
   "cell_type": "code",
   "execution_count": null,
   "id": "b63bc8ba",
   "metadata": {},
   "outputs": [],
   "source": []
  },
  {
   "cell_type": "code",
   "execution_count": null,
   "id": "15ac7295",
   "metadata": {},
   "outputs": [],
   "source": []
  },
  {
   "cell_type": "code",
   "execution_count": null,
   "id": "b96d5688",
   "metadata": {},
   "outputs": [],
   "source": []
  },
  {
   "cell_type": "code",
   "execution_count": null,
   "id": "5057cd71",
   "metadata": {},
   "outputs": [],
   "source": []
  },
  {
   "cell_type": "code",
   "execution_count": null,
   "id": "6dcc4901",
   "metadata": {},
   "outputs": [],
   "source": []
  },
  {
   "cell_type": "code",
   "execution_count": null,
   "id": "ca1cb682",
   "metadata": {},
   "outputs": [],
   "source": []
  },
  {
   "cell_type": "code",
   "execution_count": null,
   "id": "01998d84",
   "metadata": {},
   "outputs": [],
   "source": []
  },
  {
   "cell_type": "code",
   "execution_count": null,
   "id": "08f236e5",
   "metadata": {},
   "outputs": [],
   "source": []
  },
  {
   "cell_type": "code",
   "execution_count": null,
   "id": "47602ad4",
   "metadata": {},
   "outputs": [],
   "source": []
  }
 ],
 "metadata": {
  "kernelspec": {
   "display_name": "Julia 1.6.2",
   "language": "julia",
   "name": "julia-1.6"
  },
  "language_info": {
   "file_extension": ".jl",
   "mimetype": "application/julia",
   "name": "julia",
   "version": "1.6.2"
  }
 },
 "nbformat": 4,
 "nbformat_minor": 5
}
