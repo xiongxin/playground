{
 "cells": [
  {
   "cell_type": "markdown",
   "id": "64973f1e",
   "metadata": {},
   "source": [
    "# a\n",
    "\n",
    "\n",
    "```\n",
    "code\n",
    "```"
   ]
  },
  {
   "cell_type": "code",
   "execution_count": 9,
   "id": "fc651d38",
   "metadata": {},
   "outputs": [
    {
     "name": "stdout",
     "output_type": "stream",
     "text": [
      "/home/xiongxin/.julia/packages/IJulia/e8kqU/src/kernel.jl\n",
      "/home/xiongxin/.local/share/jupyter/runtime/kernel-3cf3505a-1016-4b04-a0f7-a6406d13db73.json\n",
      "π\n"
     ]
    }
   ],
   "source": [
    "#aaa\n",
    "println(PROGRAM_FILE)\n",
    "for x in ARGS\n",
    "    println(x)\n",
    "end\n",
    "\n",
    "println(pi)\n",
    "\n"
   ]
  },
  {
   "cell_type": "code",
   "execution_count": null,
   "id": "f7e4f894",
   "metadata": {},
   "outputs": [],
   "source": []
  }
 ],
 "metadata": {
  "kernelspec": {
   "display_name": "Julia 1.6.2",
   "language": "julia",
   "name": "julia-1.6"
  },
  "language_info": {
   "file_extension": ".jl",
   "mimetype": "application/julia",
   "name": "julia",
   "version": "1.6.2"
  }
 },
 "nbformat": 4,
 "nbformat_minor": 5
}
