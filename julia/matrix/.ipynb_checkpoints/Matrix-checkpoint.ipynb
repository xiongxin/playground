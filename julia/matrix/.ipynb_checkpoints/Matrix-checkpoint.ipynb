{
 "cells": [
  {
   "cell_type": "code",
   "execution_count": 10,
   "id": "9a5b2099",
   "metadata": {},
   "outputs": [
    {
     "data": {
      "text/latex": [
       "\\begin{equation}\n",
       "\\left[\n",
       "\\begin{array}{ccc}\n",
       "1.0 & 0.0 & -1.0 \\\\\n",
       "0.0 & 1.0 & 2.0 \\\\\n",
       "\\end{array}\n",
       "\\right]\n",
       "\\end{equation}\n"
      ],
      "text/plain": [
       "L\"\\begin{equation}\n",
       "\\left[\n",
       "\\begin{array}{ccc}\n",
       "1.0 & 0.0 & -1.0 \\\\\n",
       "0.0 & 1.0 & 2.0 \\\\\n",
       "\\end{array}\n",
       "\\right]\n",
       "\\end{equation}\n",
       "\""
      ]
     },
     "metadata": {},
     "output_type": "display_data"
    },
    {
     "data": {
      "text/latex": [
       "\\begin{equation}\n",
       "\\left[\n",
       "\\begin{array}{ccc}\n",
       "1.0 & 0.0 & -1.0 \\\\\n",
       "0.0 & 1.0 & 2.0 \\\\\n",
       "\\end{array}\n",
       "\\right]\n",
       "\\end{equation}\n"
      ],
      "text/plain": [
       "L\"\\begin{equation}\n",
       "\\left[\n",
       "\\begin{array}{ccc}\n",
       "1.0 & 0.0 & -1.0 \\\\\n",
       "0.0 & 1.0 & 2.0 \\\\\n",
       "\\end{array}\n",
       "\\right]\n",
       "\\end{equation}\n",
       "\""
      ]
     },
     "metadata": {},
     "output_type": "display_data"
    }
   ],
   "source": [
    "using RowEchelon\n",
    "using Latexify\n",
    "\n",
    "rref([1 2 3; 4 5 6])\n",
    "\n",
    "display(latexify(rref([1 2 3; 4 5 6])))\n",
    "\n",
    "display(latexify(rref([1 2 3; 4 5 6])))"
   ]
  },
  {
   "cell_type": "code",
   "execution_count": 11,
   "id": "5d10d374",
   "metadata": {},
   "outputs": [
    {
     "data": {
      "text/plain": [
       "3×5 Matrix{Int64}:\n",
       " 1  3  5  0  7\n",
       " 0  0  0  1  2\n",
       " 1  3  5  1  9"
      ]
     },
     "metadata": {},
     "output_type": "display_data"
    },
    {
     "data": {
      "text/plain": [
       "3×5 Matrix{Float64}:\n",
       " 1.0  3.0  5.0  0.0  7.0\n",
       " 0.0  0.0  0.0  1.0  2.0\n",
       " 0.0  0.0  0.0  0.0  0.0"
      ]
     },
     "metadata": {},
     "output_type": "display_data"
    },
    {
     "data": {
      "text/plain": [
       "\"+++++++++++A Transpose+++++++++++\""
      ]
     },
     "metadata": {},
     "output_type": "display_data"
    },
    {
     "data": {
      "text/plain": [
       "5×3 transpose(::Matrix{Int64}) with eltype Int64:\n",
       " 1  0  1\n",
       " 3  0  3\n",
       " 5  0  5\n",
       " 0  1  1\n",
       " 7  2  9"
      ]
     },
     "metadata": {},
     "output_type": "display_data"
    },
    {
     "data": {
      "text/latex": [
       "\\begin{equation}\n",
       "\\left[\n",
       "\\begin{array}{ccc}\n",
       "1.0 & 0.0 & 1.0 \\\\\n",
       "0.0 & 1.0 & 1.0000000000000002 \\\\\n",
       "0.0 & 0.0 & 0.0 \\\\\n",
       "0.0 & 0.0 & 0.0 \\\\\n",
       "0.0 & 0.0 & 0.0 \\\\\n",
       "\\end{array}\n",
       "\\right]\n",
       "\\end{equation}\n"
      ],
      "text/plain": [
       "L\"\\begin{equation}\n",
       "\\left[\n",
       "\\begin{array}{ccc}\n",
       "1.0 & 0.0 & 1.0 \\\\\n",
       "0.0 & 1.0 & 1.0000000000000002 \\\\\n",
       "0.0 & 0.0 & 0.0 \\\\\n",
       "0.0 & 0.0 & 0.0 \\\\\n",
       "0.0 & 0.0 & 0.0 \\\\\n",
       "\\end{array}\n",
       "\\right]\n",
       "\\end{equation}\n",
       "\""
      ]
     },
     "metadata": {},
     "output_type": "display_data"
    }
   ],
   "source": [
    "# The Four Subspaces for A\n",
    "using RowEchelon\n",
    "using Latexify\n",
    "\n",
    "A = [1 3 5 0 7;\n",
    "     0 0 0 1 2;\n",
    "     1 3 5 1 9]\n",
    "\n",
    "At = transpose(A)\n",
    "display(A)\n",
    "display(rref(A))\n",
    "\n",
    "display(\"+++++++++++A Transpose+++++++++++\")\n",
    "display(At)\n",
    "display(latexify(rref(At)))"
   ]
  },
  {
   "cell_type": "code",
   "execution_count": 13,
   "id": "22081691",
   "metadata": {},
   "outputs": [
    {
     "data": {
      "text/plain": [
       "3×3 Matrix{Int64}:\n",
       " 1  2  3\n",
       " 1  2  3\n",
       " 2  5  8"
      ]
     },
     "metadata": {},
     "output_type": "display_data"
    },
    {
     "data": {
      "text/latex": [
       "\\begin{equation}\n",
       "\\left[\n",
       "\\begin{array}{ccc}\n",
       "1.0 & 0.0 & -1.0 \\\\\n",
       "0.0 & 1.0 & 2.0 \\\\\n",
       "0.0 & 0.0 & 0.0 \\\\\n",
       "\\end{array}\n",
       "\\right]\n",
       "\\end{equation}\n"
      ],
      "text/plain": [
       "L\"\\begin{equation}\n",
       "\\left[\n",
       "\\begin{array}{ccc}\n",
       "1.0 & 0.0 & -1.0 \\\\\n",
       "0.0 & 1.0 & 2.0 \\\\\n",
       "0.0 & 0.0 & 0.0 \\\\\n",
       "\\end{array}\n",
       "\\right]\n",
       "\\end{equation}\n",
       "\""
      ]
     },
     "metadata": {},
     "output_type": "display_data"
    }
   ],
   "source": [
    "A = [1 2 3;\n",
    "     1 2 3;\n",
    "     2 5 8]\n",
    "display(A)\n",
    "display(latexify(rref(A)))"
   ]
  },
  {
   "cell_type": "code",
   "execution_count": 24,
   "id": "6e313e56",
   "metadata": {},
   "outputs": [
    {
     "data": {
      "text/plain": [
       "4×3 transpose(::Matrix{Int64}) with eltype Int64:\n",
       " 1  1  1\n",
       " 2  1  2\n",
       " 3  2  3\n",
       " 1  1  1"
      ]
     },
     "metadata": {},
     "output_type": "display_data"
    },
    {
     "data": {
      "text/plain": [
       "4-element Vector{Int64}:\n",
       " 0\n",
       " 0\n",
       " 0\n",
       " 0"
      ]
     },
     "execution_count": 24,
     "metadata": {},
     "output_type": "execute_result"
    }
   ],
   "source": [
    "using RowEchelon\n",
    "using Latexify\n",
    "\n",
    "A = [1 2 3 1;\n",
    "     1 1 2 1;\n",
    "     1 2 3 1]\n",
    "display(transpose(A))\n",
    "transpose(A) * [-1,0,1]\n"
   ]
  },
  {
   "cell_type": "code",
   "execution_count": null,
   "id": "160f2f63",
   "metadata": {},
   "outputs": [],
   "source": [
    "using "
   ]
  }
 ],
 "metadata": {
  "kernelspec": {
   "display_name": "Julia 1.6.2",
   "language": "julia",
   "name": "julia-1.6"
  },
  "language_info": {
   "file_extension": ".jl",
   "mimetype": "application/julia",
   "name": "julia",
   "version": "1.6.2"
  }
 },
 "nbformat": 4,
 "nbformat_minor": 5
}
