{
 "cells": [
  {
   "cell_type": "code",
   "execution_count": 3,
   "id": "c0435e35",
   "metadata": {},
   "outputs": [
    {
     "data": {
      "application/vnd.jupyter.widget-view+json": {
       "model_id": "d9c861cf180445b6ad55196634ce64fb",
       "version_major": 2,
       "version_minor": 0
      },
      "text/plain": [
       "Interactive function <function _ at 0x7fb8530599e0> with 1 widget\n",
       "  order: SelectionSlider(description='order'…"
      ]
     },
     "metadata": {},
     "output_type": "display_data"
    }
   ],
   "source": [
    "x   = SR.var('x')\n",
    "x0  = 0\n",
    "f   = sin(x) * e^(-x)\n",
    "p   = plot(f, -1, 5, thickness=2)\n",
    "dot = point((x0, f(x=x0)), pointsize=80, rgbcolor=(1, 0, 0))\n",
    "\n",
    "@interact\n",
    "def _(order=slider([1 .. 12])):\n",
    "  ft = f.taylor(x, x0, order)\n",
    "  pt = plot(ft, -1, 5, color='green', thickness=2)\n",
    "  pretty_print(html(r'$f(x)\\;=\\;%s$' % latex(f)))\n",
    "  pretty_print(html(r'$\\hat{f}(x;%s)\\;=\\;%s+\\mathcal{O}(x^{%s})$' % (x0, latex(ft), order+1)))\n",
    "  show(dot + p + pt, ymin=-.5, ymax=1)"
   ]
  },
  {
   "cell_type": "code",
   "execution_count": 6,
   "id": "33e77bcb",
   "metadata": {},
   "outputs": [
    {
     "data": {
      "application/vnd.jupyter.widget-view+json": {
       "model_id": "b35634dbd2f947a8972cc4dacd87b936",
       "version_major": 2,
       "version_minor": 0
      },
      "text/plain": [
       "Interactive function <function _ at 0x7fb8435fb4c0> with 1 widget\n",
       "  order: SelectionSlider(description='order'…"
      ]
     },
     "metadata": {},
     "output_type": "display_data"
    }
   ],
   "source": []
  },
  {
   "cell_type": "code",
   "execution_count": null,
   "id": "a71a1d40",
   "metadata": {},
   "outputs": [],
   "source": []
  }
 ],
 "metadata": {
  "kernelspec": {
   "display_name": "SageMath 9.6",
   "language": "sage",
   "name": "sagemath"
  },
  "language_info": {
   "codemirror_mode": {
    "name": "ipython",
    "version": 3
   },
   "file_extension": ".py",
   "mimetype": "text/x-python",
   "name": "python",
   "nbconvert_exporter": "python",
   "pygments_lexer": "ipython3",
   "version": "3.11.3"
  }
 },
 "nbformat": 4,
 "nbformat_minor": 5
}
