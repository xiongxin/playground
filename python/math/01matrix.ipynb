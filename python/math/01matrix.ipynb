{
 "cells": [
  {
   "cell_type": "code",
   "execution_count": 21,
   "id": "309562c8",
   "metadata": {},
   "outputs": [
    {
     "name": "stdout",
     "output_type": "stream",
     "text": [
      "(Matrix([\n",
      "[1, 0,   1,   3],\n",
      "[0, 1, 2/3, 1/3],\n",
      "[0, 0,   0,   0]]), (0, 1))\n",
      "==========\n",
      "[Matrix([\n",
      "[  -1],\n",
      "[-2/3],\n",
      "[   1],\n",
      "[   0]]), Matrix([\n",
      "[  -3],\n",
      "[-1/3],\n",
      "[   0],\n",
      "[   1]])]\n"
     ]
    }
   ],
   "source": [
    "from sympy import *\n",
    "M = Matrix([[1, 0, 1, 3], [2, 3, 4, 7], [-1, -3, -3, -4]])\n",
    "\n",
    "print(M.rref())\n",
    "print(\"==========\")\n",
    "print(M.nullspace())"
   ]
  }
 ],
 "metadata": {
  "kernelspec": {
   "display_name": "Python 3 (ipykernel)",
   "language": "python",
   "name": "python3"
  },
  "language_info": {
   "codemirror_mode": {
    "name": "ipython",
    "version": 3
   },
   "file_extension": ".py",
   "mimetype": "text/x-python",
   "name": "python",
   "nbconvert_exporter": "python",
   "pygments_lexer": "ipython3",
   "version": "3.9.7"
  }
 },
 "nbformat": 4,
 "nbformat_minor": 5
}
